{
  "nbformat": 4,
  "nbformat_minor": 0,
  "metadata": {
    "colab": {
      "provenance": [],
      "authorship_tag": "ABX9TyNyyJ4C/jQcvuedl8JjcDnx",
      "include_colab_link": true
    },
    "kernelspec": {
      "name": "python3",
      "display_name": "Python 3"
    },
    "language_info": {
      "name": "python"
    }
  },
  "cells": [
    {
      "cell_type": "markdown",
      "metadata": {
        "id": "view-in-github",
        "colab_type": "text"
      },
      "source": [
        "<a href=\"https://colab.research.google.com/github/greyart93/inverted_index_algo/blob/main/inverted_index_algos.ipynb\" target=\"_parent\"><img src=\"https://colab.research.google.com/assets/colab-badge.svg\" alt=\"Open In Colab\"/></a>"
      ]
    },
    {
      "cell_type": "markdown",
      "source": [
        "# Inverted Index\n",
        "\n",
        "- it is reverse index i.e. key becames value and value becames key\n",
        "- we remove common words, normalize it, remove puncuations\n",
        "- then we build the index\n",
        "- search function searchs the index by taking the query"
      ],
      "metadata": {
        "id": "qBjPw48D8yU-"
      }
    },
    {
      "cell_type": "code",
      "execution_count": 125,
      "metadata": {
        "colab": {
          "base_uri": "https://localhost:8080/"
        },
        "id": "azk4X6U18pjQ",
        "outputId": "430ebb3b-7e96-4ac2-e33d-535832fe082b"
      },
      "outputs": [
        {
          "output_type": "stream",
          "name": "stdout",
          "text": [
            "{'appearing': ['doc1'],\n",
            " 'computer': ['doc1', 'doc2'],\n",
            " 'examination': ['doc1', 'doc2'],\n",
            " 'practical': ['doc1', 'doc2'],\n",
            " 'science': ['doc1'],\n",
            " 'sciencex': ['doc2'],\n",
            " 'students': ['doc1'],\n",
            " 'today': ['doc2']}\n",
            "{'doc2'}\n",
            "set()\n",
            "{'doc1'}\n",
            "not found\n",
            "not found\n"
          ]
        }
      ],
      "source": [
        "dt = {\n",
        "    \"doc1\": \"The computer science students are appearing for practical examination.\",\n",
        "    \"doc2\": \"The computer sciencex practical examination is today?\"\n",
        "}\n",
        "\n",
        "i = {}\n",
        "sw = ['the', 'are', 'for', 'is']\n",
        "\n",
        "for k,v in dt.items():\n",
        "    v = v.lower()\n",
        "    v = v.strip('.?')\n",
        "    words = v.split()\n",
        "\n",
        "    for w in words:\n",
        "        if w in sw:\n",
        "            continue\n",
        "        if w not in i:\n",
        "            i[w] = []\n",
        "        if k not in i[w]:\n",
        "            i[w].append(k)\n",
        "\n",
        "import pprint\n",
        "pprint.pprint(i)\n",
        "\n",
        "\n",
        "def search(q):\n",
        "    q = q.strip('.?!')\n",
        "    q = q.lower().split()\n",
        "    k = []\n",
        "    for w in q:\n",
        "      if w not in i:\n",
        "          return \"not found\"\n",
        "      else:\n",
        "        k.append(i[w])\n",
        "        # print(j)\n",
        "    # print(l)\n",
        "      if len(k) == 0:\n",
        "        return \"no\"\n",
        "\n",
        "    return set(k[0]).intersection(*k[1:])\n",
        "    # without *:\n",
        "    # if len(l) == 2:\n",
        "    #   return set(l[0]).intersection(l[1])\n",
        "    # elif len(l) == 3:\n",
        "    #   return set(l[0]).intersection(l[1], l[2])\n",
        "# ... and so on for all possible lengths\n",
        "    # alt:\n",
        "    # result = set(l[0])\n",
        "    # for docs in l[1:]:\n",
        "    #     result &= set(docs)  # &= is intersection_update\n",
        "\n",
        "r = search(\"Computer Sciencex\")\n",
        "print(r)\n",
        "\n",
        "r2 = search(\"students today\")\n",
        "print(r2)\n",
        "\n",
        "r3 = search(\"students\")\n",
        "print(r3)\n",
        "\n",
        "r4 = search(\"business\")\n",
        "print(r4)\n",
        "\n",
        "r5 = search(\"ok\")\n",
        "print(r5)"
      ]
    },
    {
      "cell_type": "code",
      "source": [
        "while True:\n",
        "  print(\"Enter quit to exit\")\n",
        "  rs = input(\"Enter the query: \")\n",
        "  if rs == \"quit\":\n",
        "    break\n",
        "  # print(rs)\n",
        "  r = search(rs)\n",
        "  print(r)"
      ],
      "metadata": {
        "colab": {
          "base_uri": "https://localhost:8080/"
        },
        "id": "OXWhXVxX9Q7V",
        "outputId": "29f87fbd-8479-420b-a8e2-1b0d22768700"
      },
      "execution_count": null,
      "outputs": [
        {
          "name": "stdout",
          "output_type": "stream",
          "text": [
            "Enter quit to exit\n",
            "Enter the query: Computet\n",
            "not found\n",
            "Enter quit to exit\n",
            "Enter the query: Compiuter\n",
            "not found\n",
            "Enter quit to exit\n",
            "Enter the query: Computer\n",
            "{'doc2', 'doc1'}\n",
            "Enter quit to exit\n",
            "Enter the query: computer.\n",
            "{'doc2', 'doc1'}\n",
            "Enter quit to exit\n",
            "Enter the query: computer science\n",
            "{'doc1'}\n",
            "Enter quit to exit\n",
            "Enter the query: examination\n",
            "{'doc2', 'doc1'}\n",
            "Enter quit to exit\n",
            "Enter the query: practical examination\n",
            "{'doc2', 'doc1'}\n",
            "Enter quit to exit\n",
            "Enter the query: tomorrow\n",
            "not found\n",
            "Enter quit to exit\n",
            "Enter the query: today\n",
            "{'doc2'}\n",
            "Enter quit to exit\n",
            "Enter the query: students\n",
            "{'doc1'}\n",
            "Enter quit to exit\n",
            "Enter the query: appearing\n",
            "{'doc1'}\n",
            "Enter quit to exit\n",
            "Enter the query: students appearing\n",
            "{'doc1'}\n",
            "Enter quit to exit\n",
            "Enter the query: quit\n"
          ]
        }
      ]
    },
    {
      "cell_type": "code",
      "source": [
        "from string import punctuation\n",
        "import nltk\n",
        "from nltk.corpus import stopwords\n",
        "# nltk.download('stopwords')\n",
        "\n",
        "sw = stopwords.words('english')\n",
        "# print(sw)\n",
        "\n",
        "i = {}\n",
        "\n",
        "for k, v in dt.items():\n",
        "\n"
      ],
      "metadata": {
        "colab": {
          "base_uri": "https://localhost:8080/"
        },
        "id": "MtJzNUWi9Z39",
        "outputId": "a4bb9fac-d0ba-45dd-cc10-a935362c737f"
      },
      "execution_count": null,
      "outputs": [
        {
          "output_type": "stream",
          "name": "stdout",
          "text": [
            "['a', 'about', 'above', 'after', 'again', 'against', 'ain', 'all', 'am', 'an', 'and', 'any', 'are', 'aren', \"aren't\", 'as', 'at', 'be', 'because', 'been', 'before', 'being', 'below', 'between', 'both', 'but', 'by', 'can', 'couldn', \"couldn't\", 'd', 'did', 'didn', \"didn't\", 'do', 'does', 'doesn', \"doesn't\", 'doing', 'don', \"don't\", 'down', 'during', 'each', 'few', 'for', 'from', 'further', 'had', 'hadn', \"hadn't\", 'has', 'hasn', \"hasn't\", 'have', 'haven', \"haven't\", 'having', 'he', \"he'd\", \"he'll\", 'her', 'here', 'hers', 'herself', \"he's\", 'him', 'himself', 'his', 'how', 'i', \"i'd\", 'if', \"i'll\", \"i'm\", 'in', 'into', 'is', 'isn', \"isn't\", 'it', \"it'd\", \"it'll\", \"it's\", 'its', 'itself', \"i've\", 'just', 'll', 'm', 'ma', 'me', 'mightn', \"mightn't\", 'more', 'most', 'mustn', \"mustn't\", 'my', 'myself', 'needn', \"needn't\", 'no', 'nor', 'not', 'now', 'o', 'of', 'off', 'on', 'once', 'only', 'or', 'other', 'our', 'ours', 'ourselves', 'out', 'over', 'own', 're', 's', 'same', 'shan', \"shan't\", 'she', \"she'd\", \"she'll\", \"she's\", 'should', 'shouldn', \"shouldn't\", \"should've\", 'so', 'some', 'such', 't', 'than', 'that', \"that'll\", 'the', 'their', 'theirs', 'them', 'themselves', 'then', 'there', 'these', 'they', \"they'd\", \"they'll\", \"they're\", \"they've\", 'this', 'those', 'through', 'to', 'too', 'under', 'until', 'up', 've', 'very', 'was', 'wasn', \"wasn't\", 'we', \"we'd\", \"we'll\", \"we're\", 'were', 'weren', \"weren't\", \"we've\", 'what', 'when', 'where', 'which', 'while', 'who', 'whom', 'why', 'will', 'with', 'won', \"won't\", 'wouldn', \"wouldn't\", 'y', 'you', \"you'd\", \"you'll\", 'your', \"you're\", 'yours', 'yourself', 'yourselves', \"you've\"]\n"
          ]
        }
      ]
    },
    {
      "cell_type": "code",
      "source": [
        "set([1,2,4]).intersection([1,2,3,4])\n"
      ],
      "metadata": {
        "colab": {
          "base_uri": "https://localhost:8080/"
        },
        "id": "Y-Lur-qIGpWr",
        "outputId": "605bfc85-9591-461d-ffc3-6a5f2dba1fe2"
      },
      "execution_count": null,
      "outputs": [
        {
          "output_type": "execute_result",
          "data": {
            "text/plain": [
              "{1, 2, 4}"
            ]
          },
          "metadata": {},
          "execution_count": 33
        }
      ]
    },
    {
      "cell_type": "code",
      "source": [
        "from pprint import pprint\n",
        "from string import punctuation\n",
        "import nltk\n",
        "if not nltk.corpus.stopwords.words('english'):\n",
        "  nltk.download('stopwords')\n",
        "\n",
        "stop_words = nltk.corpus.stopwords.words('english')\n",
        "\n",
        "doc = {\n",
        "    'doc1': 'The computer science students are appearing for practical examination.',\n",
        "    'doc2': 'computer science practical examination will start tomorrow.',\n",
        "\n",
        "}\n",
        "\n",
        "i = {}\n",
        "\n",
        "for k, v in doc.items():\n",
        "  v = v.lower().strip('.?!')\n",
        "  for word in v.split():\n",
        "    if word in stop_words:\n",
        "      continue\n",
        "    if word not in i:\n",
        "      i[word] = []\n",
        "    if k not in i[word]:\n",
        "      i[word].append(k)\n",
        "\n",
        "pprint(i)"
      ],
      "metadata": {
        "colab": {
          "base_uri": "https://localhost:8080/"
        },
        "id": "SqndXyDlOAZ-",
        "outputId": "241dd3f9-26c0-4f75-f032-ce759f23e552"
      },
      "execution_count": null,
      "outputs": [
        {
          "output_type": "stream",
          "name": "stdout",
          "text": [
            "{'appearing': ['doc1'],\n",
            " 'computer': ['doc1', 'doc2'],\n",
            " 'examination': ['doc1', 'doc2'],\n",
            " 'practical': ['doc1', 'doc2'],\n",
            " 'science': ['doc1', 'doc2'],\n",
            " 'start': ['doc2'],\n",
            " 'students': ['doc1'],\n",
            " 'tomorrow': ['doc2']}\n"
          ]
        }
      ]
    },
    {
      "cell_type": "code",
      "source": [
        "dt = {\n",
        "    \"doc1\": \"The computer science students are appearing for practical examination.\",\n",
        "    \"doc2\": \"The computer sciencex practical examination is today?\"\n",
        "}\n",
        "\n",
        "i = {}\n",
        "sw = ['the', 'are', 'for', 'is']\n",
        "\n",
        "for k,v in dt.items():\n",
        "    v = v.lower()\n",
        "    v = v.strip('.?')\n",
        "    words = v.split()\n",
        "\n",
        "    for w in words:\n",
        "        if w in sw:\n",
        "            continue\n",
        "        if w not in i:\n",
        "            i[w] = []\n",
        "        if k not in i[w]:\n",
        "            i[w].append(k)\n",
        "\n",
        "import pprint\n",
        "pprint.pprint(i)\n",
        "\n",
        "\n",
        "def search(q):\n",
        "    q = q.lower().split()\n",
        "    l = []\n",
        "    for j in q:\n",
        "        l.append(i[j])\n",
        "        # print(j)\n",
        "    print(l)\n",
        "    return list(set(l[0]).intersection(*l[1:]))\n",
        "\n",
        "r = search(\"Computer Sciencex\")\n",
        "print(r)\n",
        "\n",
        "# r2 = search(\"students today\")\n",
        "# print(r2)"
      ],
      "metadata": {
        "colab": {
          "base_uri": "https://localhost:8080/"
        },
        "id": "g6kNUCNqFl9O",
        "outputId": "60d132f0-fe71-4e30-f60f-a5227f428a90"
      },
      "execution_count": 127,
      "outputs": [
        {
          "output_type": "stream",
          "name": "stdout",
          "text": [
            "{'appearing': ['doc1'],\n",
            " 'computer': ['doc1', 'doc2'],\n",
            " 'examination': ['doc1', 'doc2'],\n",
            " 'practical': ['doc1', 'doc2'],\n",
            " 'science': ['doc1'],\n",
            " 'sciencex': ['doc2'],\n",
            " 'students': ['doc1'],\n",
            " 'today': ['doc2']}\n",
            "[['doc1', 'doc2'], ['doc2']]\n",
            "['doc2']\n"
          ]
        }
      ]
    },
    {
      "cell_type": "markdown",
      "source": [
        "# Build a question-answering system using techniques such as information extraction"
      ],
      "metadata": {
        "id": "Cu3b55LZgvg0"
      }
    },
    {
      "cell_type": "code",
      "source": [
        "from transformers import pipeline\n",
        "\n",
        "qa_pipeline = pipeline(\"question-answering\", model=\"distilbert-base-cased-distilled-squad\")\n",
        "\n",
        "context = \"\"\"\n",
        "The computer science students are appearing for practical examination.\n",
        "Computer science practical examination will start tomorrow.\n",
        "\"\"\"\n",
        "\n",
        "def ask(question):\n",
        "    result = qa_pipeline(question=question, context=context)\n",
        "    return result['answer']\n",
        "\n",
        "print(ask(\"Who is appearing for examination?\"))  # Output: computer science students\n",
        "print(ask(\"When will the exam start?\"))         # Output: tomorrow\n",
        "print(ask(\"What is the subject?\"))\n",
        "print(ask(\"Who has exams?\"))"
      ],
      "metadata": {
        "colab": {
          "base_uri": "https://localhost:8080/"
        },
        "id": "fmD0pf_if4-9",
        "outputId": "1b6ab83f-67f2-42bc-f3f7-b5593cc7b980"
      },
      "execution_count": null,
      "outputs": [
        {
          "output_type": "stream",
          "name": "stderr",
          "text": [
            "Device set to use cpu\n"
          ]
        },
        {
          "output_type": "stream",
          "name": "stdout",
          "text": [
            "computer science students\n",
            "tomorrow\n",
            "computer science\n",
            "computer science students\n"
          ]
        }
      ]
    },
    {
      "cell_type": "code",
      "source": [
        "print(ask(\"What department of students are appearing for exam\"))\n",
        "print(ask(\"Which exam will start tomorrow\"))\n",
        "print(ask(\"Who is appearing for examination?\"))\n",
        "print(ask(\"When will the exam start?\"))\n",
        "print(ask(\"Who has exams?\"))"
      ],
      "metadata": {
        "colab": {
          "base_uri": "https://localhost:8080/"
        },
        "id": "IlLTytiBhBdE",
        "outputId": "75aef279-fbb7-46a7-bbd1-2c10dfbb2283"
      },
      "execution_count": null,
      "outputs": [
        {
          "output_type": "stream",
          "name": "stdout",
          "text": [
            "computer science\n",
            "Computer science practical examination\n",
            "computer science students\n",
            "tomorrow\n",
            "computer science students\n"
          ]
        }
      ]
    },
    {
      "cell_type": "code",
      "source": [
        "print(ask(\"who am i\"))"
      ],
      "metadata": {
        "colab": {
          "base_uri": "https://localhost:8080/"
        },
        "id": "l7aLHy75iHZF",
        "outputId": "43065e37-471f-4661-802a-6363908966b5"
      },
      "execution_count": null,
      "outputs": [
        {
          "output_type": "stream",
          "name": "stdout",
          "text": [
            "The computer science students\n"
          ]
        }
      ]
    },
    {
      "cell_type": "code",
      "source": [
        "print(ask(\"what is my name?\"))"
      ],
      "metadata": {
        "colab": {
          "base_uri": "https://localhost:8080/"
        },
        "id": "x9vTIxA9iOXk",
        "outputId": "15fb7fd2-89b3-41b3-8221-aa64ef539b07"
      },
      "execution_count": null,
      "outputs": [
        {
          "output_type": "stream",
          "name": "stdout",
          "text": [
            "The computer science students are appearing for practical examination\n"
          ]
        }
      ]
    },
    {
      "cell_type": "code",
      "source": [
        "context += 'my name is art'\n",
        "print(ask('what is my name?'))"
      ],
      "metadata": {
        "colab": {
          "base_uri": "https://localhost:8080/"
        },
        "id": "UVe_-43wiy0B",
        "outputId": "d8e6df43-31ee-402e-b6ca-9307ec7f7588"
      },
      "execution_count": null,
      "outputs": [
        {
          "output_type": "stream",
          "name": "stdout",
          "text": [
            "art\n"
          ]
        }
      ]
    },
    {
      "cell_type": "code",
      "source": [
        "print(ask(\"Who has exams?\"))"
      ],
      "metadata": {
        "colab": {
          "base_uri": "https://localhost:8080/"
        },
        "id": "lk0d-YvjiTDc",
        "outputId": "ac0b42fb-5472-4da7-cec8-5ca84847a9a5"
      },
      "execution_count": null,
      "outputs": [
        {
          "output_type": "stream",
          "name": "stdout",
          "text": [
            "computer science students\n"
          ]
        }
      ]
    },
    {
      "cell_type": "code",
      "source": [],
      "metadata": {
        "id": "r6eS_a8mitc7"
      },
      "execution_count": null,
      "outputs": []
    },
    {
      "cell_type": "code",
      "source": [
        "context += \"\"\"\n",
        "India has the second-largest population in the world.\n",
        "It is surrounded by oceans from three sides which are Bay Of Bengal in\n",
        "the east, the Arabian Sea in the west and Indian oceans in the south.\n",
        "Tiger is the national animal of India.\n",
        "Peacock is the national bird of India.\n",
        "\"Mango is the national fruit of India.\"\"\"\n",
        "print(ask(\"What is the national animal of India?\"))\n",
        "print(ask(\"What is the national bird of India?\"))\n",
        "print(ask(\"What is the national fruit of India?\"))"
      ],
      "metadata": {
        "colab": {
          "base_uri": "https://localhost:8080/"
        },
        "id": "Kn9LzBrUphFy",
        "outputId": "41d0bec1-6c3d-47db-8122-1edc68b25130"
      },
      "execution_count": null,
      "outputs": [
        {
          "output_type": "stream",
          "name": "stdout",
          "text": [
            "Tiger\n",
            "Peacock\n",
            "Mango\n"
          ]
        }
      ]
    },
    {
      "cell_type": "code",
      "source": [],
      "metadata": {
        "id": "PRxHCn17pwdr"
      },
      "execution_count": null,
      "outputs": []
    },
    {
      "cell_type": "code",
      "source": [
        "from string import punctuation\n",
        "import nltk\n",
        "\n",
        "nltk.download('stopwords')\n",
        "\n",
        "sw = nltk.corpus.stopwords.words('english')\n",
        "\n",
        "doc = {\n",
        "    'doc1': 'The computer science students are appearing for practical examination.',\n",
        "    'doc2': 'computer science practical examination will start tomorrow.',\n",
        "\n",
        "}\n",
        "\n",
        "i = {}\n",
        "\n",
        "for k, v in doc.items():\n",
        "  v = v.lower()\n",
        "  v = v.strip(punctuation)\n",
        "  for word in v.split():\n",
        "    if word in sw:\n",
        "      continue\n",
        "    if word not in i:\n",
        "      i[word] = []\n",
        "    if k not in i[word]:\n",
        "      i[word].append(k)\n",
        "from pprint import pprint\n",
        "pprint(doc)\n",
        "print()\n",
        "i"
      ],
      "metadata": {
        "colab": {
          "base_uri": "https://localhost:8080/"
        },
        "id": "SXZFlIg0ubHy",
        "outputId": "8a0ab2b3-5a31-45bc-9188-8caad5cca47c"
      },
      "execution_count": 11,
      "outputs": [
        {
          "output_type": "stream",
          "name": "stdout",
          "text": [
            "{'doc1': 'The computer science students are appearing for practical '\n",
            "         'examination.',\n",
            " 'doc2': 'computer science practical examination will start tomorrow.'}\n",
            "\n"
          ]
        },
        {
          "output_type": "stream",
          "name": "stderr",
          "text": [
            "[nltk_data] Downloading package stopwords to /root/nltk_data...\n",
            "[nltk_data]   Unzipping corpora/stopwords.zip.\n"
          ]
        },
        {
          "output_type": "execute_result",
          "data": {
            "text/plain": [
              "{'computer': ['doc1', 'doc2'],\n",
              " 'science': ['doc1', 'doc2'],\n",
              " 'students': ['doc1'],\n",
              " 'appearing': ['doc1'],\n",
              " 'practical': ['doc1', 'doc2'],\n",
              " 'examination': ['doc1', 'doc2'],\n",
              " 'start': ['doc2'],\n",
              " 'tomorrow': ['doc2']}"
            ]
          },
          "metadata": {},
          "execution_count": 11
        }
      ]
    },
    {
      "cell_type": "code",
      "source": [
        "from string import punctuation\n",
        "def search(query):\n",
        "  query = query.lower()\n",
        "  query = query.strip(punctuation)\n",
        "  query = query.split() # ['a', 'b']\n",
        "  print(query)\n",
        "  k = []\n",
        "  for w in query:\n",
        "    if w not in i:\n",
        "      return \"not found\"\n",
        "    else:\n",
        "      k.append(i[w])\n",
        "  print(k)\n",
        "  if len(k) == 0:\n",
        "    return \"no\"\n",
        "  return set(k[0]).intersection(*k[1:])\n",
        ""
      ],
      "metadata": {
        "id": "a-hUskYUukij"
      },
      "execution_count": 12,
      "outputs": []
    },
    {
      "cell_type": "code",
      "source": [
        "print(search(\"computer science students\"))\n"
      ],
      "metadata": {
        "colab": {
          "base_uri": "https://localhost:8080/"
        },
        "id": "tVTejHPYzzhZ",
        "outputId": "1b81bc42-4d7c-46d6-eba5-683f3b353225"
      },
      "execution_count": 13,
      "outputs": [
        {
          "output_type": "stream",
          "name": "stdout",
          "text": [
            "['computer', 'science', 'students']\n",
            "[['doc1', 'doc2'], ['doc1', 'doc2'], ['doc1']]\n",
            "{'doc1'}\n"
          ]
        }
      ]
    },
    {
      "cell_type": "code",
      "source": [
        "s = input()\n",
        "print(search(s))"
      ],
      "metadata": {
        "colab": {
          "base_uri": "https://localhost:8080/"
        },
        "id": "hVkmPZ6az19c",
        "outputId": "a7bb00ed-b184-460a-d3a2-bc12a9781ae8"
      },
      "execution_count": 15,
      "outputs": [
        {
          "output_type": "stream",
          "name": "stdout",
          "text": [
            "computer science\n",
            "['computer', 'science']\n",
            "[['doc1', 'doc2'], ['doc1', 'doc2']]\n",
            "{'doc2', 'doc1'}\n"
          ]
        }
      ]
    },
    {
      "cell_type": "code",
      "source": [
        "while True:\n",
        "  print(\"Enter quit to exit\")\n",
        "  rs = input(\"Enter the query: \")\n",
        "  if rs == \"quit\":\n",
        "    break\n",
        "  # print(rs)\n",
        "  r = search(rs)\n",
        "  print(r)"
      ],
      "metadata": {
        "colab": {
          "base_uri": "https://localhost:8080/"
        },
        "id": "xmKMSigA4WsO",
        "outputId": "93bf49c9-63b9-49b5-ffff-18913142a63f"
      },
      "execution_count": 16,
      "outputs": [
        {
          "name": "stdout",
          "output_type": "stream",
          "text": [
            "Enter quit to exit\n",
            "Enter the query: computer\n",
            "['computer']\n",
            "[['doc1', 'doc2']]\n",
            "{'doc2', 'doc1'}\n",
            "Enter quit to exit\n",
            "Enter the query: computer science\n",
            "['computer', 'science']\n",
            "[['doc1', 'doc2'], ['doc1', 'doc2']]\n",
            "{'doc2', 'doc1'}\n",
            "Enter quit to exit\n",
            "Enter the query: computer examinatio \n",
            "['computer', 'examinatio']\n",
            "not found\n",
            "Enter quit to exit\n",
            "Enter the query: practical examination\n",
            "['practical', 'examination']\n",
            "[['doc1', 'doc2'], ['doc1', 'doc2']]\n",
            "{'doc2', 'doc1'}\n",
            "Enter quit to exit\n",
            "Enter the query: students examination'\n",
            "['students', 'examination']\n",
            "[['doc1'], ['doc1', 'doc2']]\n",
            "{'doc1'}\n",
            "Enter quit to exit\n",
            "Enter the query: \n",
            "[]\n",
            "[]\n",
            "no\n",
            "Enter quit to exit\n",
            "Enter the query: ok\n",
            "['ok']\n",
            "not found\n",
            "Enter quit to exit\n",
            "Enter the query: quit\n"
          ]
        }
      ]
    },
    {
      "cell_type": "code",
      "source": [
        "from pprint import pprint\n",
        "\n",
        "doc = {\n",
        "    \"doc1\": \"Ai is a ML?\",\n",
        "    \"doc2\": \"DS is maths!\"\n",
        "}\n",
        "\n",
        "i = {}\n",
        "sw = ['is', 'a']\n",
        "\n",
        "for k, v in doc.items():\n",
        "    v = v.lower()\n",
        "    v = v.strip(\".!?\")\n",
        "    words = v.split()\n",
        "\n",
        "    for w in words:\n",
        "        if w in sw:\n",
        "            continue\n",
        "        if w not in i:\n",
        "            i[w] = []\n",
        "        if k not in i[w]:\n",
        "            i[w].append(k)\n",
        "\n",
        "print(i)\n",
        "\n",
        "\n",
        "def search(q):\n",
        "    q = q.lower().strip(\"?.!\")\n",
        "    q = q.split()\n",
        "    l = []\n",
        "\n",
        "    for w in q:\n",
        "        if w in i:\n",
        "            l.append(i[w])\n",
        "\n",
        "    if len(l) == 0:\n",
        "        return \"not found\"\n",
        "\n",
        "    if len(l) == 1:\n",
        "        return l[0]\n",
        "\n",
        "    if len(l) > 1:\n",
        "        return list(set(l[0]).intersection(*l[1:]))\n",
        "\n",
        "print(search(\"computer\"))\n",
        "print(search(\"AI and ML\"))\n",
        "\n",
        "\n",
        "\n",
        ""
      ],
      "metadata": {
        "colab": {
          "base_uri": "https://localhost:8080/"
        },
        "id": "pmfL0ZStOS2c",
        "outputId": "f097c7d1-366e-4fdf-899d-5680d57dd47b"
      },
      "execution_count": 20,
      "outputs": [
        {
          "output_type": "stream",
          "name": "stdout",
          "text": [
            "{'ai': ['doc1'], 'ml': ['doc1'], 'ds': ['doc2'], 'maths': ['doc2']}\n",
            "not found\n",
            "['doc1']\n"
          ]
        }
      ]
    },
    {
      "cell_type": "code",
      "source": [
        "l = [[1], [1, 2]]\n",
        "print(set(l[0]).intersection(*l[1:]))"
      ],
      "metadata": {
        "colab": {
          "base_uri": "https://localhost:8080/"
        },
        "id": "wGFHP1JGOd-L",
        "outputId": "a30a6a5e-9abd-44c1-808a-e065aa8fc343"
      },
      "execution_count": 28,
      "outputs": [
        {
          "output_type": "stream",
          "name": "stdout",
          "text": [
            "{1}\n"
          ]
        }
      ]
    },
    {
      "cell_type": "code",
      "source": [
        "from transformers import pipeline"
      ],
      "metadata": {
        "id": "6RfGNyxBO17_"
      },
      "execution_count": 108,
      "outputs": []
    },
    {
      "cell_type": "code",
      "source": [
        "qa_pipeline = pipeline(\"question-answering\", model=\"distilbert/distilbert-base-cased-distilled-squad\")"
      ],
      "metadata": {
        "colab": {
          "base_uri": "https://localhost:8080/"
        },
        "id": "Oqhqod9iRCy3",
        "outputId": "f84dfa29-66b8-48da-f911-24a2e192b0af"
      },
      "execution_count": 109,
      "outputs": [
        {
          "output_type": "stream",
          "name": "stderr",
          "text": [
            "Device set to use cpu\n"
          ]
        }
      ]
    },
    {
      "cell_type": "code",
      "source": [
        "c = \"\"\"\n",
        "Today is Information Retrieval Practical Exam.\n",
        "I an a computer sicence student.\n",
        "computer science students are appearing for IR exam today.\n",
        "\"\"\""
      ],
      "metadata": {
        "id": "_qS094sPRrl8"
      },
      "execution_count": 110,
      "outputs": []
    },
    {
      "cell_type": "code",
      "source": [
        "def ask(q):\n",
        "  r = qa_pipeline(question=q, context=c)\n",
        "  print(r['score'])\n",
        "  if r['score'] < 0.2:\n",
        "      return \"I don't know\"\n",
        "  print(r['answer'])"
      ],
      "metadata": {
        "id": "N19o20elSCSD"
      },
      "execution_count": 111,
      "outputs": []
    },
    {
      "cell_type": "code",
      "source": [
        "ask(\"Who am i?\")"
      ],
      "metadata": {
        "colab": {
          "base_uri": "https://localhost:8080/"
        },
        "id": "38RSSqtUSJXf",
        "outputId": "abd18dfd-f662-400a-c620-6a4738d2a686"
      },
      "execution_count": 112,
      "outputs": [
        {
          "output_type": "stream",
          "name": "stdout",
          "text": [
            "0.44715407490730286\n",
            "a computer sicence student\n"
          ]
        }
      ]
    },
    {
      "cell_type": "code",
      "source": [
        "ask(\"what is today?\")"
      ],
      "metadata": {
        "colab": {
          "base_uri": "https://localhost:8080/"
        },
        "id": "LQ-cbTrASR3c",
        "outputId": "50cbfe3f-18b3-469a-8baa-cd2bffe9b393"
      },
      "execution_count": 113,
      "outputs": [
        {
          "output_type": "stream",
          "name": "stdout",
          "text": [
            "0.9671644568443298\n",
            "Information Retrieval Practical Exam\n"
          ]
        }
      ]
    },
    {
      "cell_type": "code",
      "source": [
        "ask(\"what i'm gonna do taoday?\")"
      ],
      "metadata": {
        "colab": {
          "base_uri": "https://localhost:8080/",
          "height": 54
        },
        "id": "L9BfieLASUlQ",
        "outputId": "ba1c98a2-1f9a-4943-8a7a-a2492e5acf81"
      },
      "execution_count": 114,
      "outputs": [
        {
          "output_type": "stream",
          "name": "stdout",
          "text": [
            "0.19836826622486115\n"
          ]
        },
        {
          "output_type": "execute_result",
          "data": {
            "text/plain": [
              "\"I don't know\""
            ],
            "application/vnd.google.colaboratory.intrinsic+json": {
              "type": "string"
            }
          },
          "metadata": {},
          "execution_count": 114
        }
      ]
    },
    {
      "cell_type": "code",
      "source": [
        "ask(\"what i'm gonna do today?\")"
      ],
      "metadata": {
        "colab": {
          "base_uri": "https://localhost:8080/"
        },
        "id": "PWmpXOO2ScX7",
        "outputId": "4a4d3e15-5872-41f3-f8c0-ff70e6146e77"
      },
      "execution_count": 115,
      "outputs": [
        {
          "output_type": "stream",
          "name": "stdout",
          "text": [
            "0.46084555983543396\n",
            "IR exam\n"
          ]
        }
      ]
    },
    {
      "cell_type": "code",
      "source": [
        "ask(\"tell my name?\")"
      ],
      "metadata": {
        "colab": {
          "base_uri": "https://localhost:8080/",
          "height": 54
        },
        "id": "69VYQjo6SjqT",
        "outputId": "44b1a173-25b8-4dfd-fa58-39f6afa441f2"
      },
      "execution_count": 118,
      "outputs": [
        {
          "output_type": "stream",
          "name": "stdout",
          "text": [
            "0.15932273864746094\n"
          ]
        },
        {
          "output_type": "execute_result",
          "data": {
            "text/plain": [
              "\"I don't know\""
            ],
            "application/vnd.google.colaboratory.intrinsic+json": {
              "type": "string"
            }
          },
          "metadata": {},
          "execution_count": 118
        }
      ]
    },
    {
      "cell_type": "code",
      "source": [
        "ask(\"explain AI?\")"
      ],
      "metadata": {
        "colab": {
          "base_uri": "https://localhost:8080/",
          "height": 54
        },
        "id": "0tXBat-9SoZk",
        "outputId": "495843d2-e4a1-491e-ed83-4b90d6d57f3d"
      },
      "execution_count": 117,
      "outputs": [
        {
          "output_type": "stream",
          "name": "stdout",
          "text": [
            "0.04368548467755318\n"
          ]
        },
        {
          "output_type": "execute_result",
          "data": {
            "text/plain": [
              "\"I don't know\""
            ],
            "application/vnd.google.colaboratory.intrinsic+json": {
              "type": "string"
            }
          },
          "metadata": {},
          "execution_count": 117
        }
      ]
    },
    {
      "cell_type": "code",
      "source": [
        "c += \"\"\"\n",
        "  my name is art.\n",
        "  AI is a field that deals with making rational systems\n",
        "\"\"\""
      ],
      "metadata": {
        "id": "uMRWEpAbSr_x"
      },
      "execution_count": 119,
      "outputs": []
    },
    {
      "cell_type": "code",
      "source": [
        "ask(\"what is my name?\")"
      ],
      "metadata": {
        "colab": {
          "base_uri": "https://localhost:8080/"
        },
        "id": "so9_QQ3jUJ1U",
        "outputId": "5e4e2f59-5491-45b1-83fc-88b23a6f5fec"
      },
      "execution_count": 120,
      "outputs": [
        {
          "output_type": "stream",
          "name": "stdout",
          "text": [
            "0.9700301289558411\n",
            "art\n"
          ]
        }
      ]
    },
    {
      "cell_type": "code",
      "source": [
        "ask(\"what is AI?\")"
      ],
      "metadata": {
        "colab": {
          "base_uri": "https://localhost:8080/"
        },
        "id": "R9w4bkm9ULfX",
        "outputId": "1964b432-a76d-4102-e0f8-b4906ff0659e"
      },
      "execution_count": 121,
      "outputs": [
        {
          "output_type": "stream",
          "name": "stdout",
          "text": [
            "0.8422307372093201\n",
            "a field that deals with making rational systems\n"
          ]
        }
      ]
    },
    {
      "cell_type": "code",
      "source": [],
      "metadata": {
        "id": "QoX4iJgxW0jE"
      },
      "execution_count": null,
      "outputs": []
    }
  ]
}