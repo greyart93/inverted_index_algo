{
  "nbformat": 4,
  "nbformat_minor": 0,
  "metadata": {
    "colab": {
      "provenance": []
    },
    "kernelspec": {
      "name": "python3",
      "display_name": "Python 3"
    },
    "language_info": {
      "name": "python"
    }
  },
  "cells": [
    {
      "cell_type": "markdown",
      "source": [
        "# Inverted Index\n",
        "\n",
        "- it is reverse index i.e. key becames value and value becames key\n",
        "- we remove common words, normalize it, remove puncuations\n",
        "- then we build the index\n",
        "- search function searchs the index by taking the query"
      ],
      "metadata": {
        "id": "qBjPw48D8yU-"
      }
    },
    {
      "cell_type": "code",
      "execution_count": 22,
      "metadata": {
        "colab": {
          "base_uri": "https://localhost:8080/"
        },
        "id": "azk4X6U18pjQ",
        "outputId": "675d3290-0367-4cdc-867e-4ed954e8cd2d"
      },
      "outputs": [
        {
          "output_type": "stream",
          "name": "stdout",
          "text": [
            "{'appearing': ['doc1'],\n",
            " 'computer': ['doc1', 'doc2'],\n",
            " 'examination': ['doc1', 'doc2'],\n",
            " 'practical': ['doc1', 'doc2'],\n",
            " 'science': ['doc1'],\n",
            " 'sciencex': ['doc2'],\n",
            " 'students': ['doc1'],\n",
            " 'today': ['doc2']}\n",
            "{'doc2'}\n",
            "set()\n",
            "{'doc1'}\n",
            "not found\n",
            "not found\n"
          ]
        }
      ],
      "source": [
        "dt = {\n",
        "    \"doc1\": \"The computer science students are appearing for practical examination.\",\n",
        "    \"doc2\": \"The computer sciencex practical examination is today?\"\n",
        "}\n",
        "\n",
        "i = {}\n",
        "sw = ['the', 'are', 'for', 'is']\n",
        "\n",
        "for k,v in dt.items():\n",
        "    v = v.lower()\n",
        "    v = v.strip('.?')\n",
        "    words = v.split()\n",
        "\n",
        "    for w in words:\n",
        "        if w in sw:\n",
        "            continue\n",
        "        if w not in i:\n",
        "            i[w] = []\n",
        "        if k not in i[w]:\n",
        "            i[w].append(k)\n",
        "\n",
        "import pprint\n",
        "pprint.pprint(i)\n",
        "\n",
        "\n",
        "def search(q):\n",
        "    q = q.strip('.?!')\n",
        "    q = q.lower().split()\n",
        "    k = []\n",
        "    for w in q:\n",
        "      if w not in i:\n",
        "          return \"not found\"\n",
        "      else:\n",
        "        k.append(i[w])\n",
        "        # print(j)\n",
        "    # print(l)\n",
        "      if len(k) == 0:\n",
        "        return \"no\"\n",
        "\n",
        "    return set(k[0]).intersection(*k[1:])\n",
        "    # without *:\n",
        "    # if len(l) == 2:\n",
        "    #   return set(l[0]).intersection(l[1])\n",
        "    # elif len(l) == 3:\n",
        "    #   return set(l[0]).intersection(l[1], l[2])\n",
        "# ... and so on for all possible lengths\n",
        "    # alt:\n",
        "    # result = set(l[0])\n",
        "    # for docs in l[1:]:\n",
        "    #     result &= set(docs)  # &= is intersection_update\n",
        "\n",
        "r = search(\"Computer Sciencex\")\n",
        "print(r)\n",
        "\n",
        "r2 = search(\"students today\")\n",
        "print(r2)\n",
        "\n",
        "r3 = search(\"students\")\n",
        "print(r3)\n",
        "\n",
        "r4 = search(\"business\")\n",
        "print(r4)\n",
        "\n",
        "r5 = search(\"ok\")\n",
        "print(r5)"
      ]
    },
    {
      "cell_type": "code",
      "source": [
        "while True:\n",
        "  print(\"Enter quit to exit\")\n",
        "  rs = input(\"Enter the query: \")\n",
        "  if rs == \"quit\":\n",
        "    break\n",
        "  # print(rs)\n",
        "  r = search(rs)\n",
        "  print(r)"
      ],
      "metadata": {
        "colab": {
          "base_uri": "https://localhost:8080/"
        },
        "id": "OXWhXVxX9Q7V",
        "outputId": "29f87fbd-8479-420b-a8e2-1b0d22768700"
      },
      "execution_count": 23,
      "outputs": [
        {
          "name": "stdout",
          "output_type": "stream",
          "text": [
            "Enter quit to exit\n",
            "Enter the query: Computet\n",
            "not found\n",
            "Enter quit to exit\n",
            "Enter the query: Compiuter\n",
            "not found\n",
            "Enter quit to exit\n",
            "Enter the query: Computer\n",
            "{'doc2', 'doc1'}\n",
            "Enter quit to exit\n",
            "Enter the query: computer.\n",
            "{'doc2', 'doc1'}\n",
            "Enter quit to exit\n",
            "Enter the query: computer science\n",
            "{'doc1'}\n",
            "Enter quit to exit\n",
            "Enter the query: examination\n",
            "{'doc2', 'doc1'}\n",
            "Enter quit to exit\n",
            "Enter the query: practical examination\n",
            "{'doc2', 'doc1'}\n",
            "Enter quit to exit\n",
            "Enter the query: tomorrow\n",
            "not found\n",
            "Enter quit to exit\n",
            "Enter the query: today\n",
            "{'doc2'}\n",
            "Enter quit to exit\n",
            "Enter the query: students\n",
            "{'doc1'}\n",
            "Enter quit to exit\n",
            "Enter the query: appearing\n",
            "{'doc1'}\n",
            "Enter quit to exit\n",
            "Enter the query: students appearing\n",
            "{'doc1'}\n",
            "Enter quit to exit\n",
            "Enter the query: quit\n"
          ]
        }
      ]
    },
    {
      "cell_type": "code",
      "source": [
        "from string import punctuation\n",
        "import nltk\n",
        "from nltk.corpus import stopwords\n",
        "# nltk.download('stopwords')\n",
        "\n",
        "sw = stopwords.words('english')\n",
        "# print(sw)\n",
        "\n",
        "i = {}\n",
        "\n",
        "for k, v in dt.items():\n",
        "\n"
      ],
      "metadata": {
        "colab": {
          "base_uri": "https://localhost:8080/"
        },
        "id": "MtJzNUWi9Z39",
        "outputId": "a4bb9fac-d0ba-45dd-cc10-a935362c737f"
      },
      "execution_count": 27,
      "outputs": [
        {
          "output_type": "stream",
          "name": "stdout",
          "text": [
            "['a', 'about', 'above', 'after', 'again', 'against', 'ain', 'all', 'am', 'an', 'and', 'any', 'are', 'aren', \"aren't\", 'as', 'at', 'be', 'because', 'been', 'before', 'being', 'below', 'between', 'both', 'but', 'by', 'can', 'couldn', \"couldn't\", 'd', 'did', 'didn', \"didn't\", 'do', 'does', 'doesn', \"doesn't\", 'doing', 'don', \"don't\", 'down', 'during', 'each', 'few', 'for', 'from', 'further', 'had', 'hadn', \"hadn't\", 'has', 'hasn', \"hasn't\", 'have', 'haven', \"haven't\", 'having', 'he', \"he'd\", \"he'll\", 'her', 'here', 'hers', 'herself', \"he's\", 'him', 'himself', 'his', 'how', 'i', \"i'd\", 'if', \"i'll\", \"i'm\", 'in', 'into', 'is', 'isn', \"isn't\", 'it', \"it'd\", \"it'll\", \"it's\", 'its', 'itself', \"i've\", 'just', 'll', 'm', 'ma', 'me', 'mightn', \"mightn't\", 'more', 'most', 'mustn', \"mustn't\", 'my', 'myself', 'needn', \"needn't\", 'no', 'nor', 'not', 'now', 'o', 'of', 'off', 'on', 'once', 'only', 'or', 'other', 'our', 'ours', 'ourselves', 'out', 'over', 'own', 're', 's', 'same', 'shan', \"shan't\", 'she', \"she'd\", \"she'll\", \"she's\", 'should', 'shouldn', \"shouldn't\", \"should've\", 'so', 'some', 'such', 't', 'than', 'that', \"that'll\", 'the', 'their', 'theirs', 'them', 'themselves', 'then', 'there', 'these', 'they', \"they'd\", \"they'll\", \"they're\", \"they've\", 'this', 'those', 'through', 'to', 'too', 'under', 'until', 'up', 've', 'very', 'was', 'wasn', \"wasn't\", 'we', \"we'd\", \"we'll\", \"we're\", 'were', 'weren', \"weren't\", \"we've\", 'what', 'when', 'where', 'which', 'while', 'who', 'whom', 'why', 'will', 'with', 'won', \"won't\", 'wouldn', \"wouldn't\", 'y', 'you', \"you'd\", \"you'll\", 'your', \"you're\", 'yours', 'yourself', 'yourselves', \"you've\"]\n"
          ]
        }
      ]
    },
    {
      "cell_type": "code",
      "source": [
        "set([1,2,4]).intersection([1,2,3,4])\n"
      ],
      "metadata": {
        "colab": {
          "base_uri": "https://localhost:8080/"
        },
        "id": "Y-Lur-qIGpWr",
        "outputId": "605bfc85-9591-461d-ffc3-6a5f2dba1fe2"
      },
      "execution_count": 33,
      "outputs": [
        {
          "output_type": "execute_result",
          "data": {
            "text/plain": [
              "{1, 2, 4}"
            ]
          },
          "metadata": {},
          "execution_count": 33
        }
      ]
    },
    {
      "cell_type": "code",
      "source": [
        "from pprint import pprint\n",
        "from string import punctuation\n",
        "import nltk\n",
        "if not nltk.corpus.stopwords.words('english'):\n",
        "  nltk.download('stopwords')\n",
        "\n",
        "stop_words = nltk.corpus.stopwords.words('english')\n",
        "\n",
        "doc = {\n",
        "    'doc1': 'The computer science students are appearing for practical examination.',\n",
        "    'doc2': 'computer science practical examination will start tomorrow.',\n",
        "\n",
        "}\n",
        "\n",
        "i = {}\n",
        "\n",
        "for k, v in doc.items():\n",
        "  v = v.lower().strip('.?!')\n",
        "  for word in v.split():\n",
        "    if word in stop_words:\n",
        "      continue\n",
        "    if word not in i:\n",
        "      i[word] = []\n",
        "    if k not in i[word]:\n",
        "      i[word].append(k)\n",
        "\n",
        "pprint(i)"
      ],
      "metadata": {
        "colab": {
          "base_uri": "https://localhost:8080/"
        },
        "id": "SqndXyDlOAZ-",
        "outputId": "241dd3f9-26c0-4f75-f032-ce759f23e552"
      },
      "execution_count": 38,
      "outputs": [
        {
          "output_type": "stream",
          "name": "stdout",
          "text": [
            "{'appearing': ['doc1'],\n",
            " 'computer': ['doc1', 'doc2'],\n",
            " 'examination': ['doc1', 'doc2'],\n",
            " 'practical': ['doc1', 'doc2'],\n",
            " 'science': ['doc1', 'doc2'],\n",
            " 'start': ['doc2'],\n",
            " 'students': ['doc1'],\n",
            " 'tomorrow': ['doc2']}\n"
          ]
        }
      ]
    },
    {
      "cell_type": "markdown",
      "source": [
        "# Build a question-answering system using techniques such as information extraction"
      ],
      "metadata": {
        "id": "Cu3b55LZgvg0"
      }
    },
    {
      "cell_type": "code",
      "source": [
        "from transformers import pipeline\n",
        "\n",
        "qa_pipeline = pipeline(\"question-answering\", model=\"distilbert-base-cased-distilled-squad\")\n",
        "\n",
        "context = \"\"\"\n",
        "The computer science students are appearing for practical examination.\n",
        "Computer science practical examination will start tomorrow.\n",
        "\"\"\"\n",
        "\n",
        "def ask(question):\n",
        "    result = qa_pipeline(question=question, context=context)\n",
        "    return result['answer']\n",
        "\n",
        "print(ask(\"Who is appearing for examination?\"))  # Output: computer science students\n",
        "print(ask(\"When will the exam start?\"))         # Output: tomorrow\n",
        "print(ask(\"What is the subject?\"))\n",
        "print(ask(\"Who has exams?\"))"
      ],
      "metadata": {
        "colab": {
          "base_uri": "https://localhost:8080/"
        },
        "id": "fmD0pf_if4-9",
        "outputId": "1b6ab83f-67f2-42bc-f3f7-b5593cc7b980"
      },
      "execution_count": 49,
      "outputs": [
        {
          "output_type": "stream",
          "name": "stderr",
          "text": [
            "Device set to use cpu\n"
          ]
        },
        {
          "output_type": "stream",
          "name": "stdout",
          "text": [
            "computer science students\n",
            "tomorrow\n",
            "computer science\n",
            "computer science students\n"
          ]
        }
      ]
    },
    {
      "cell_type": "code",
      "source": [
        "print(ask(\"What department of students are appearing for exam\"))\n",
        "print(ask(\"Which exam will start tomorrow\"))\n",
        "print(ask(\"Who is appearing for examination?\"))\n",
        "print(ask(\"When will the exam start?\"))\n",
        "print(ask(\"Who has exams?\"))"
      ],
      "metadata": {
        "colab": {
          "base_uri": "https://localhost:8080/"
        },
        "id": "IlLTytiBhBdE",
        "outputId": "75aef279-fbb7-46a7-bbd1-2c10dfbb2283"
      },
      "execution_count": 50,
      "outputs": [
        {
          "output_type": "stream",
          "name": "stdout",
          "text": [
            "computer science\n",
            "Computer science practical examination\n",
            "computer science students\n",
            "tomorrow\n",
            "computer science students\n"
          ]
        }
      ]
    },
    {
      "cell_type": "code",
      "source": [
        "print(ask(\"who am i\"))"
      ],
      "metadata": {
        "colab": {
          "base_uri": "https://localhost:8080/"
        },
        "id": "l7aLHy75iHZF",
        "outputId": "43065e37-471f-4661-802a-6363908966b5"
      },
      "execution_count": 42,
      "outputs": [
        {
          "output_type": "stream",
          "name": "stdout",
          "text": [
            "The computer science students\n"
          ]
        }
      ]
    },
    {
      "cell_type": "code",
      "source": [
        "print(ask(\"what is my name?\"))"
      ],
      "metadata": {
        "colab": {
          "base_uri": "https://localhost:8080/"
        },
        "id": "x9vTIxA9iOXk",
        "outputId": "15fb7fd2-89b3-41b3-8221-aa64ef539b07"
      },
      "execution_count": 51,
      "outputs": [
        {
          "output_type": "stream",
          "name": "stdout",
          "text": [
            "The computer science students are appearing for practical examination\n"
          ]
        }
      ]
    },
    {
      "cell_type": "code",
      "source": [
        "context += 'my name is art'\n",
        "print(ask('what is my name?'))"
      ],
      "metadata": {
        "colab": {
          "base_uri": "https://localhost:8080/"
        },
        "id": "UVe_-43wiy0B",
        "outputId": "d8e6df43-31ee-402e-b6ca-9307ec7f7588"
      },
      "execution_count": 53,
      "outputs": [
        {
          "output_type": "stream",
          "name": "stdout",
          "text": [
            "art\n"
          ]
        }
      ]
    },
    {
      "cell_type": "code",
      "source": [
        "print(ask(\"Who has exams?\"))"
      ],
      "metadata": {
        "colab": {
          "base_uri": "https://localhost:8080/"
        },
        "id": "lk0d-YvjiTDc",
        "outputId": "ac0b42fb-5472-4da7-cec8-5ca84847a9a5"
      },
      "execution_count": 52,
      "outputs": [
        {
          "output_type": "stream",
          "name": "stdout",
          "text": [
            "computer science students\n"
          ]
        }
      ]
    },
    {
      "cell_type": "code",
      "source": [],
      "metadata": {
        "id": "r6eS_a8mitc7"
      },
      "execution_count": null,
      "outputs": []
    }
  ]
}